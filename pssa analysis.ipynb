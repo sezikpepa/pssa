{
 "cells": [
  {
   "cell_type": "code",
   "execution_count": null,
   "metadata": {},
   "outputs": [],
   "source": [
    "import itertools\n",
    "import pandas as pd\n",
    "import numpy as np\n",
    "import matplotlib.pyplot as plt\n",
    "import seaborn as sns"
   ]
  },
  {
   "cell_type": "code",
   "execution_count": null,
   "metadata": {},
   "outputs": [],
   "source": [
    "#The code will check potential cascades of all possible pairs of medicines which are used the most often. This number represents, how many of them should be selected.\n",
    "HOW_MANY_MOST_COMMON_DRUGS_TO_INVESTIGATE = 50\n",
    "\n",
    "#csv file with columns name as following: mdc, atc, start_date, end_date\n",
    "LOCATION_OF_PRESCRIBED_MEDICINES = \"prescriptions_cleared.csv\"\n",
    "\n",
    "#csv files with columns named as following: atc_code, atc_name\n",
    "ATC_CODES_PATH = \"atccodes.csv\""
   ]
  },
  {
   "cell_type": "code",
   "execution_count": null,
   "metadata": {},
   "outputs": [],
   "source": [
    "df = pd.read_csv(LOCATION_OF_PRESCRIBED_MEDICINES)\n",
    "\n",
    "df['start_date'] = pd.to_datetime(df['start_date'])\n",
    "df['end_date'] = pd.to_datetime(df['end_date'])\n",
    "\n",
    "drugs_for_investigation = df['atc'].value_counts().head(HOW_MANY_MOST_COMMON_DRUGS_TO_INVESTIGATE).index\n",
    "drug_combinations = list(itertools.combinations(drugs_for_investigation, 2))"
   ]
  },
  {
   "cell_type": "code",
   "execution_count": null,
   "metadata": {},
   "outputs": [],
   "source": [
    "atc_codes = pd.read_csv(ATC_CODES_PATH)\n",
    "atc_codes.drop_duplicates(inplace=True)"
   ]
  },
  {
   "cell_type": "code",
   "execution_count": null,
   "metadata": {},
   "outputs": [],
   "source": [
    "possible_cascades = pd.DataFrame(columns=['fixed_drug', 'potentionally_cascading', 'potentionally_cascading_prescribed_before_fixed', 'potentionally_cascading_prescribed_after_fixed', 'ratio', 'prescribed_same_day'])\n",
    "\n",
    "df_filtered = df[df['atc'].isin(drugs_for_investigation)].copy()\n",
    "\n",
    "for drug_a, drug_b  in drug_combinations:\n",
    "\n",
    "    drug_A = df_filtered[df_filtered['atc'] == drug_a]\n",
    "    drug_B = df_filtered[df_filtered['atc'] == drug_b]\n",
    "\n",
    "    merged_A_B = pd.merge(drug_A, drug_B, on='mmd', suffixes=('_A', '_B'))\n",
    "\n",
    "    A_before_B = (merged_A_B['start_date_A'] < merged_A_B['start_date_B']).sum()\n",
    "    B_before_A = (merged_A_B['start_date_B'] < merged_A_B['start_date_A']).sum()\n",
    "    same_date = (merged_A_B['start_date_B'] == merged_A_B['start_date_A']).sum()\n",
    "\n",
    "    if B_before_A > 0 and A_before_B > 0: \n",
    "        new_row = {'fixed_drug': drug_a, 'potentionally_cascading': drug_b, 'potentionally_cascading_prescribed_before_fixed': B_before_A, 'potentionally_cascading_prescribed_after_fixed': A_before_B, 'ratio': A_before_B / (B_before_A), 'prescribed_same_day' : same_date}\n",
    "        possible_cascades.loc[len(possible_cascades)] = new_row\n",
    "        new_row = {'fixed_drug': drug_b, 'potentionally_cascading': drug_a, 'potentionally_cascading_prescribed_before_fixed': A_before_B, 'potentionally_cascading_prescribed_after_fixed': B_before_A, 'ratio': B_before_A / (A_before_B), 'prescribed_same_day' : same_date}\n",
    "        possible_cascades.loc[len(possible_cascades)] = new_row\n"
   ]
  },
  {
   "cell_type": "code",
   "execution_count": null,
   "metadata": {},
   "outputs": [],
   "source": [
    "#ADD NAMES TO DRUG CODES IN POTENTIONAL CASCADES\n",
    "\n",
    "possible_cascades_with_names = pd.merge(possible_cascades, atc_codes, left_on=\"fixed_drug\", right_on=\"atc_code\", how=\"left\")\n",
    "possible_cascades_with_names.drop(\"atc_code\", axis=1, inplace=True)\n",
    "possible_cascades_with_names.rename(columns={\"atc_name\": \"fixed_drug_name\"}, inplace=True)\n",
    "\n",
    "possible_cascades_with_names = pd.merge(possible_cascades_with_names, atc_codes, left_on=\"potentionally_cascading\", right_on=\"atc_code\", how=\"left\")\n",
    "possible_cascades_with_names.drop(\"atc_code\", axis=1, inplace=True)\n",
    "possible_cascades_with_names.rename(columns={\"atc_name\": \"potentionally_cascading_name\"}, inplace=True)\n",
    "\n",
    "sorted_cascades = possible_cascades_with_names.sort_values(by=\"ratio\", ascending=False)"
   ]
  },
  {
   "cell_type": "markdown",
   "metadata": {},
   "source": [
    "## Cascades with highest ratio higer than 1, means that the potentionally cascading drug is prescribed more often after the prescription of a fixed drug. Higher the ratio, larger volume prescribed after fixed drug"
   ]
  },
  {
   "cell_type": "markdown",
   "metadata": {},
   "source": [
    "# Visualizations"
   ]
  },
  {
   "cell_type": "code",
   "execution_count": null,
   "metadata": {},
   "outputs": [],
   "source": [
    "import pandas as pd\n",
    "import matplotlib.pyplot as plt\n",
    "\n",
    "def show_prescription_graph(fixed_drug, potentionally_cascading_graph, number_of_months=15):\n",
    "\n",
    "    df['start_date'] = pd.to_datetime(df['start_date'])\n",
    "    df['end_date'] = pd.to_datetime(df['end_date'])\n",
    "\n",
    "    medicine_name_1 = atc_codes[atc_codes.atc_code == fixed_drug].iloc[0].iloc[1]\n",
    "    medicine_name_2 = atc_codes[atc_codes.atc_code == potentionally_cascading_graph].iloc[0].iloc[1]\n",
    "\n",
    "    df_medicine_1 = df[df['atc'] == fixed_drug]\n",
    "    df_medicine_2 = df[df['atc'] == potentionally_cascading_graph]\n",
    "\n",
    "    merged_df = pd.merge(df_medicine_1[['mmd', 'start_date']], \n",
    "                        df_medicine_2[['mmd', 'start_date']], \n",
    "                        on='mmd', \n",
    "                        suffixes=('_A', '_B'), how=\"inner\")\n",
    "\n",
    "    merged_df.drop_duplicates(inplace=True)\n",
    "    merged_df['date_diff'] = -(merged_df['start_date_A'] - merged_df['start_date_B']).dt.days\n",
    "    merged_df['month_diff'] = (merged_df['date_diff'] / 30).round().astype(int)\n",
    "    merged_df = merged_df[(merged_df['month_diff'] <= number_of_months) & (merged_df['month_diff'] >= -number_of_months)]\n",
    "\n",
    "    month_counts = merged_df['month_diff'].value_counts().sort_index()\n",
    "\n",
    "    plt.figure(figsize=(10, 6))\n",
    "    month_counts.plot(kind='bar', color='skyblue')\n",
    "    plt.title(f'Months Difference Between Prescription of {medicine_name_1} and {medicine_name_2}. {medicine_name_1} is fixed')\n",
    "    plt.xlabel('Months Before/After')\n",
    "    plt.ylabel('Number of Patients')\n",
    "    plt.xticks(rotation=0)\n",
    "    plt.show()"
   ]
  },
  {
   "cell_type": "markdown",
   "metadata": {},
   "source": [
    "## How to print these graphs - first parameter is fixed drug, second is potentional cascading, last number is number of months before and after prescription of fixed drug should be shown."
   ]
  },
  {
   "cell_type": "code",
   "execution_count": null,
   "metadata": {},
   "outputs": [],
   "source": [
    "show_prescription_graph('N02AC03', 'S01BC10', 3)"
   ]
  }
 ],
 "metadata": {
  "kernelspec": {
   "display_name": "Python 3",
   "language": "python",
   "name": "python3"
  },
  "language_info": {
   "codemirror_mode": {
    "name": "ipython",
    "version": 3
   },
   "file_extension": ".py",
   "mimetype": "text/x-python",
   "name": "python",
   "nbconvert_exporter": "python",
   "pygments_lexer": "ipython3",
   "version": "3.11.2"
  }
 },
 "nbformat": 4,
 "nbformat_minor": 2
}
